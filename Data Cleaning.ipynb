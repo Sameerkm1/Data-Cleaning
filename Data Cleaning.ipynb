{
 "cells": [
  {
   "cell_type": "markdown",
   "id": "51cd38df",
   "metadata": {},
   "source": [
    "# Data Cleaning:- \n",
    "## To find all missing values and filling those missing values\n",
    "### Methods- Forward Fill, Backward Fill, Interpolation and Mean Value"
   ]
  },
  {
   "cell_type": "markdown",
   "id": "470f8a3a",
   "metadata": {},
   "source": [
    "## <font color='green'>Loading Dataset</font>"
   ]
  },
  {
   "cell_type": "code",
   "execution_count": 1,
   "id": "d23837bf",
   "metadata": {},
   "outputs": [],
   "source": [
    "import pandas as pd\n",
    "import numpy as np\n",
    "import seaborn as sns"
   ]
  },
  {
   "cell_type": "code",
   "execution_count": 2,
   "id": "ee392056",
   "metadata": {},
   "outputs": [
    {
     "name": "stdout",
     "output_type": "stream",
     "text": [
      "  DC Input Current [A] DC Input Voltage [V]\n",
      "0                 0.86                722.3\n",
      "1                 1.03                726.7\n",
      "2                 1.38                741.5\n",
      "3                  NaN                  NaN\n",
      "4                 2.01                759.5\n",
      "5                 2.27                786.4\n",
      "6                 2.85                779.2\n",
      "7                  N/a                776.6\n",
      "8                 3.82                780.6\n",
      "9                 4.33                   na\n"
     ]
    }
   ],
   "source": [
    "data =pd.read_csv(r'C:\\Users\\IV-DC.csv')\n",
    "print (data)"
   ]
  },
  {
   "cell_type": "markdown",
   "id": "5a44b0ad",
   "metadata": {},
   "source": [
    "## <font color='green'>Finding Missing Values</font>"
   ]
  },
  {
   "cell_type": "code",
   "execution_count": 3,
   "id": "7e1446f5",
   "metadata": {},
   "outputs": [
    {
     "data": {
      "text/plain": [
       "DC Input Current [A]    1\n",
       "DC Input Voltage [V]    1\n",
       "dtype: int64"
      ]
     },
     "execution_count": 3,
     "metadata": {},
     "output_type": "execute_result"
    }
   ],
   "source": [
    "data.isnull().sum()"
   ]
  },
  {
   "cell_type": "markdown",
   "id": "ac7eef5c",
   "metadata": {},
   "source": [
    "Here we have NaN, N/a and na values. But if we check Null values it will not show all missing values. It showing only 4th row misisng value.\n",
    "So, we will define missing values list during reading the csv file."
   ]
  },
  {
   "cell_type": "code",
   "execution_count": 4,
   "id": "0e130ade",
   "metadata": {},
   "outputs": [],
   "source": [
    "missingvalues=[\"N/a\", \"na\", np.nan]\n",
    "df =pd.read_csv(r'C:\\Users\\sam\\Downloads\\Data Cleaning1\\IV-DC.csv', na_values=missingvalues)"
   ]
  },
  {
   "cell_type": "code",
   "execution_count": 5,
   "id": "e08f38bc",
   "metadata": {},
   "outputs": [
    {
     "name": "stdout",
     "output_type": "stream",
     "text": [
      "   DC Input Current [A]  DC Input Voltage [V]\n",
      "0                  0.86                 722.3\n",
      "1                  1.03                 726.7\n",
      "2                  1.38                 741.5\n",
      "3                   NaN                   NaN\n",
      "4                  2.01                 759.5\n",
      "5                  2.27                 786.4\n",
      "6                  2.85                 779.2\n",
      "7                   NaN                 776.6\n",
      "8                  3.82                 780.6\n",
      "9                  4.33                   NaN\n"
     ]
    }
   ],
   "source": [
    "print(df)"
   ]
  },
  {
   "cell_type": "code",
   "execution_count": 6,
   "id": "560ed22d",
   "metadata": {},
   "outputs": [
    {
     "data": {
      "text/plain": [
       "DC Input Current [A]    2\n",
       "DC Input Voltage [V]    2\n",
       "dtype: int64"
      ]
     },
     "execution_count": 6,
     "metadata": {},
     "output_type": "execute_result"
    }
   ],
   "source": [
    "df.isnull().sum()"
   ]
  },
  {
   "cell_type": "markdown",
   "id": "a7dedf52",
   "metadata": {},
   "source": [
    "Here we get all missing values."
   ]
  },
  {
   "cell_type": "code",
   "execution_count": 7,
   "id": "e0953a19",
   "metadata": {},
   "outputs": [
    {
     "data": {
      "text/plain": [
       "DC Input Current [A]    True\n",
       "DC Input Voltage [V]    True\n",
       "dtype: bool"
      ]
     },
     "execution_count": 7,
     "metadata": {},
     "output_type": "execute_result"
    }
   ],
   "source": [
    "df.isnull().any()\n",
    "#True means having NA values and False means no any missing values"
   ]
  },
  {
   "cell_type": "markdown",
   "id": "7e07d518",
   "metadata": {},
   "source": [
    "## <font color='green'>Visualizing Missing Values</font>"
   ]
  },
  {
   "cell_type": "code",
   "execution_count": 8,
   "id": "beb395e3",
   "metadata": {},
   "outputs": [
    {
     "data": {
      "text/plain": [
       "<AxesSubplot:>"
      ]
     },
     "execution_count": 8,
     "metadata": {},
     "output_type": "execute_result"
    },
    {
     "data": {
      "image/png": "[encoded data removed]",
      "text/plain": [
       "<Figure size 432x288 with 2 Axes>"
      ]
     },
     "metadata": {
      "needs_background": "light"
     },
     "output_type": "display_data"
    }
   ],
   "source": [
    "sns.heatmap(df.isnull(), yticklabels=False, annot=True)"
   ]
  },
  {
   "cell_type": "markdown",
   "id": "a53158e6",
   "metadata": {},
   "source": [
    "Here we can see all the NA values."
   ]
  },
  {
   "cell_type": "markdown",
   "id": "e77466f3",
   "metadata": {},
   "source": [
    "## <font color='green'>Removing Missing Values</font>"
   ]
  },
  {
   "cell_type": "code",
   "execution_count": 9,
   "id": "975667b3",
   "metadata": {},
   "outputs": [
    {
     "name": "stdout",
     "output_type": "stream",
     "text": [
      "   DC Input Current [A]  DC Input Voltage [V]\n",
      "0                  0.86                 722.3\n",
      "1                  1.03                 726.7\n",
      "2                  1.38                 741.5\n",
      "3                   NaN                   NaN\n",
      "4                  2.01                 759.5\n",
      "5                  2.27                 786.4\n",
      "6                  2.85                 779.2\n",
      "7                   NaN                 776.6\n",
      "8                  3.82                 780.6\n",
      "9                  4.33                   NaN\n"
     ]
    }
   ],
   "source": [
    "df_mv = df\n",
    "print(df_mv)"
   ]
  },
  {
   "cell_type": "markdown",
   "id": "32dd0042",
   "metadata": {},
   "source": [
    "### <font color='blue'>Method 1: Removing all rows which are having missing values.</font>"
   ]
  },
  {
   "cell_type": "code",
   "execution_count": 10,
   "id": "42523a04",
   "metadata": {},
   "outputs": [
    {
     "data": {
      "text/html": [
       "<div>\n",
       "<style scoped>\n",
       "    .dataframe tbody tr th:only-of-type {\n",
       "        vertical-align: middle;\n",
       "    }\n",
       "\n",
       "    .dataframe tbody tr th {\n",
       "        vertical-align: top;\n",
       "    }\n",
       "\n",
       "    .dataframe thead th {\n",
       "        text-align: right;\n",
       "    }\n",
       "</style>\n",
       "<table border=\"1\" class=\"dataframe\">\n",
       "  <thead>\n",
       "    <tr style=\"text-align: right;\">\n",
       "      <th></th>\n",
       "      <th>DC Input Current [A]</th>\n",
       "      <th>DC Input Voltage [V]</th>\n",
       "    </tr>\n",
       "  </thead>\n",
       "  <tbody>\n",
       "    <tr>\n",
       "      <th>0</th>\n",
       "      <td>0.86</td>\n",
       "      <td>722.3</td>\n",
       "    </tr>\n",
       "    <tr>\n",
       "      <th>1</th>\n",
       "      <td>1.03</td>\n",
       "      <td>726.7</td>\n",
       "    </tr>\n",
       "    <tr>\n",
       "      <th>2</th>\n",
       "      <td>1.38</td>\n",
       "      <td>741.5</td>\n",
       "    </tr>\n",
       "    <tr>\n",
       "      <th>4</th>\n",
       "      <td>2.01</td>\n",
       "      <td>759.5</td>\n",
       "    </tr>\n",
       "    <tr>\n",
       "      <th>5</th>\n",
       "      <td>2.27</td>\n",
       "      <td>786.4</td>\n",
       "    </tr>\n",
       "    <tr>\n",
       "      <th>6</th>\n",
       "      <td>2.85</td>\n",
       "      <td>779.2</td>\n",
       "    </tr>\n",
       "    <tr>\n",
       "      <th>8</th>\n",
       "      <td>3.82</td>\n",
       "      <td>780.6</td>\n",
       "    </tr>\n",
       "  </tbody>\n",
       "</table>\n",
       "</div>"
      ],
      "text/plain": [
       "   DC Input Current [A]  DC Input Voltage [V]\n",
       "0                  0.86                 722.3\n",
       "1                  1.03                 726.7\n",
       "2                  1.38                 741.5\n",
       "4                  2.01                 759.5\n",
       "5                  2.27                 786.4\n",
       "6                  2.85                 779.2\n",
       "8                  3.82                 780.6"
      ]
     },
     "execution_count": 10,
     "metadata": {},
     "output_type": "execute_result"
    }
   ],
   "source": [
    "df_mv.dropna()"
   ]
  },
  {
   "cell_type": "markdown",
   "id": "3f7fbead",
   "metadata": {},
   "source": [
    "### <font color='blue'>Method 2: Removing only that rows where entire columns have missing values.</font>"
   ]
  },
  {
   "cell_type": "code",
   "execution_count": 11,
   "id": "5b665499",
   "metadata": {},
   "outputs": [
    {
     "data": {
      "text/html": [
       "<div>\n",
       "<style scoped>\n",
       "    .dataframe tbody tr th:only-of-type {\n",
       "        vertical-align: middle;\n",
       "    }\n",
       "\n",
       "    .dataframe tbody tr th {\n",
       "        vertical-align: top;\n",
       "    }\n",
       "\n",
       "    .dataframe thead th {\n",
       "        text-align: right;\n",
       "    }\n",
       "</style>\n",
       "<table border=\"1\" class=\"dataframe\">\n",
       "  <thead>\n",
       "    <tr style=\"text-align: right;\">\n",
       "      <th></th>\n",
       "      <th>DC Input Current [A]</th>\n",
       "      <th>DC Input Voltage [V]</th>\n",
       "    </tr>\n",
       "  </thead>\n",
       "  <tbody>\n",
       "    <tr>\n",
       "      <th>0</th>\n",
       "      <td>0.86</td>\n",
       "      <td>722.3</td>\n",
       "    </tr>\n",
       "    <tr>\n",
       "      <th>1</th>\n",
       "      <td>1.03</td>\n",
       "      <td>726.7</td>\n",
       "    </tr>\n",
       "    <tr>\n",
       "      <th>2</th>\n",
       "      <td>1.38</td>\n",
       "      <td>741.5</td>\n",
       "    </tr>\n",
       "    <tr>\n",
       "      <th>4</th>\n",
       "      <td>2.01</td>\n",
       "      <td>759.5</td>\n",
       "    </tr>\n",
       "    <tr>\n",
       "      <th>5</th>\n",
       "      <td>2.27</td>\n",
       "      <td>786.4</td>\n",
       "    </tr>\n",
       "    <tr>\n",
       "      <th>6</th>\n",
       "      <td>2.85</td>\n",
       "      <td>779.2</td>\n",
       "    </tr>\n",
       "    <tr>\n",
       "      <th>7</th>\n",
       "      <td>NaN</td>\n",
       "      <td>776.6</td>\n",
       "    </tr>\n",
       "    <tr>\n",
       "      <th>8</th>\n",
       "      <td>3.82</td>\n",
       "      <td>780.6</td>\n",
       "    </tr>\n",
       "    <tr>\n",
       "      <th>9</th>\n",
       "      <td>4.33</td>\n",
       "      <td>NaN</td>\n",
       "    </tr>\n",
       "  </tbody>\n",
       "</table>\n",
       "</div>"
      ],
      "text/plain": [
       "   DC Input Current [A]  DC Input Voltage [V]\n",
       "0                  0.86                 722.3\n",
       "1                  1.03                 726.7\n",
       "2                  1.38                 741.5\n",
       "4                  2.01                 759.5\n",
       "5                  2.27                 786.4\n",
       "6                  2.85                 779.2\n",
       "7                   NaN                 776.6\n",
       "8                  3.82                 780.6\n",
       "9                  4.33                   NaN"
      ]
     },
     "execution_count": 11,
     "metadata": {},
     "output_type": "execute_result"
    }
   ],
   "source": [
    "df_mv.dropna(how=\"all\")"
   ]
  },
  {
   "cell_type": "markdown",
   "id": "12c98068",
   "metadata": {},
   "source": [
    "Now we can see only 4th row is removed. Here, both methods (removing missing values) are explained as an example, I have not removed any data for further explanation."
   ]
  },
  {
   "cell_type": "markdown",
   "id": "811831eb",
   "metadata": {},
   "source": [
    "## <font color='green'>Filling Missing Values</font>"
   ]
  },
  {
   "cell_type": "code",
   "execution_count": 12,
   "id": "e4cac262",
   "metadata": {},
   "outputs": [
    {
     "data": {
      "text/html": [
       "<div>\n",
       "<style scoped>\n",
       "    .dataframe tbody tr th:only-of-type {\n",
       "        vertical-align: middle;\n",
       "    }\n",
       "\n",
       "    .dataframe tbody tr th {\n",
       "        vertical-align: top;\n",
       "    }\n",
       "\n",
       "    .dataframe thead th {\n",
       "        text-align: right;\n",
       "    }\n",
       "</style>\n",
       "<table border=\"1\" class=\"dataframe\">\n",
       "  <thead>\n",
       "    <tr style=\"text-align: right;\">\n",
       "      <th></th>\n",
       "      <th>DC Input Current [A]</th>\n",
       "      <th>DC Input Voltage [V]</th>\n",
       "    </tr>\n",
       "  </thead>\n",
       "  <tbody>\n",
       "    <tr>\n",
       "      <th>0</th>\n",
       "      <td>0.86</td>\n",
       "      <td>722.3</td>\n",
       "    </tr>\n",
       "    <tr>\n",
       "      <th>1</th>\n",
       "      <td>1.03</td>\n",
       "      <td>726.7</td>\n",
       "    </tr>\n",
       "    <tr>\n",
       "      <th>2</th>\n",
       "      <td>1.38</td>\n",
       "      <td>741.5</td>\n",
       "    </tr>\n",
       "    <tr>\n",
       "      <th>3</th>\n",
       "      <td>NaN</td>\n",
       "      <td>NaN</td>\n",
       "    </tr>\n",
       "    <tr>\n",
       "      <th>4</th>\n",
       "      <td>2.01</td>\n",
       "      <td>759.5</td>\n",
       "    </tr>\n",
       "    <tr>\n",
       "      <th>5</th>\n",
       "      <td>2.27</td>\n",
       "      <td>786.4</td>\n",
       "    </tr>\n",
       "    <tr>\n",
       "      <th>6</th>\n",
       "      <td>2.85</td>\n",
       "      <td>779.2</td>\n",
       "    </tr>\n",
       "    <tr>\n",
       "      <th>7</th>\n",
       "      <td>NaN</td>\n",
       "      <td>776.6</td>\n",
       "    </tr>\n",
       "    <tr>\n",
       "      <th>8</th>\n",
       "      <td>3.82</td>\n",
       "      <td>780.6</td>\n",
       "    </tr>\n",
       "    <tr>\n",
       "      <th>9</th>\n",
       "      <td>4.33</td>\n",
       "      <td>NaN</td>\n",
       "    </tr>\n",
       "  </tbody>\n",
       "</table>\n",
       "</div>"
      ],
      "text/plain": [
       "   DC Input Current [A]  DC Input Voltage [V]\n",
       "0                  0.86                 722.3\n",
       "1                  1.03                 726.7\n",
       "2                  1.38                 741.5\n",
       "3                   NaN                   NaN\n",
       "4                  2.01                 759.5\n",
       "5                  2.27                 786.4\n",
       "6                  2.85                 779.2\n",
       "7                   NaN                 776.6\n",
       "8                  3.82                 780.6\n",
       "9                  4.33                   NaN"
      ]
     },
     "execution_count": 12,
     "metadata": {},
     "output_type": "execute_result"
    }
   ],
   "source": [
    "df #original dataset"
   ]
  },
  {
   "cell_type": "markdown",
   "id": "eff22e6c",
   "metadata": {},
   "source": [
    "### <font color='blue'>Method 1: Filling Missing Values with Forward Fill</font>"
   ]
  },
  {
   "cell_type": "markdown",
   "id": "e7a06cc2",
   "metadata": {},
   "source": [
    "Pandas dataframe.ffill() function is used to fill the missing value in the dataset. ‘ffill’ stands for ‘forward fill’ and will propagate last valid observation forward."
   ]
  },
  {
   "cell_type": "code",
   "execution_count": 13,
   "id": "98a0d146",
   "metadata": {},
   "outputs": [
    {
     "name": "stdout",
     "output_type": "stream",
     "text": [
      "   DC Input Current [A]  DC Input Voltage [V]\n",
      "0                  0.86                 722.3\n",
      "1                  1.03                 726.7\n",
      "2                  1.38                 741.5\n",
      "3                  1.38                 741.5\n",
      "4                  2.01                 759.5\n",
      "5                  2.27                 786.4\n",
      "6                  2.85                 779.2\n",
      "7                  2.85                 776.6\n",
      "8                  3.82                 780.6\n",
      "9                  4.33                 780.6\n"
     ]
    }
   ],
   "source": [
    "df1 = df.fillna(method='ffill')\n",
    "print(df1)"
   ]
  },
  {
   "cell_type": "markdown",
   "id": "d1750e9e",
   "metadata": {},
   "source": [
    "### <font color='blue'>Method 2: Filling Missing Values with Backward Fill</font>"
   ]
  },
  {
   "cell_type": "markdown",
   "id": "46b98527",
   "metadata": {},
   "source": [
    "Pandas dataframe.bfill() is used to backward fill the missing values in the dataset. It will backward fill the NaN values that are present in the pandas dataframe."
   ]
  },
  {
   "cell_type": "code",
   "execution_count": 14,
   "id": "555bb6e9",
   "metadata": {},
   "outputs": [
    {
     "name": "stdout",
     "output_type": "stream",
     "text": [
      "   DC Input Current [A]  DC Input Voltage [V]\n",
      "0                  0.86                 722.3\n",
      "1                  1.03                 726.7\n",
      "2                  1.38                 741.5\n",
      "3                  2.01                 759.5\n",
      "4                  2.01                 759.5\n",
      "5                  2.27                 786.4\n",
      "6                  2.85                 779.2\n",
      "7                  3.82                 776.6\n",
      "8                  3.82                 780.6\n",
      "9                  4.33                   NaN\n"
     ]
    }
   ],
   "source": [
    "df2 = df.fillna(method='bfill')\n",
    "print(df2)"
   ]
  },
  {
   "cell_type": "markdown",
   "id": "dfb764ae",
   "metadata": {},
   "source": [
    "### <font color='blue'>Method 3: Filling Missing Values with Interpolation</font>"
   ]
  },
  {
   "cell_type": "markdown",
   "id": "2cb2c459",
   "metadata": {},
   "source": [
    "Interpolation method is used to find missing value with help of its neighbors. Interpolation is mostly used while working with time-series data because in time-series data we like to fill missing values with previous one or two values."
   ]
  },
  {
   "cell_type": "code",
   "execution_count": 15,
   "id": "3fbce62f",
   "metadata": {},
   "outputs": [
    {
     "name": "stdout",
     "output_type": "stream",
     "text": [
      "   DC Input Current [A]  DC Input Voltage [V]\n",
      "0                 0.860                 722.3\n",
      "1                 1.030                 726.7\n",
      "2                 1.380                 741.5\n",
      "3                 1.695                 750.5\n",
      "4                 2.010                 759.5\n",
      "5                 2.270                 786.4\n",
      "6                 2.850                 779.2\n",
      "7                 3.335                 776.6\n",
      "8                 3.820                 780.6\n",
      "9                 4.330                 780.6\n"
     ]
    }
   ],
   "source": [
    "df3 = df.interpolate(method='linear') #Calculation example for 4th row, (1.380+2.010)/2=1.695\n",
    "print(df3)"
   ]
  },
  {
   "cell_type": "markdown",
   "id": "ad02044b",
   "metadata": {},
   "source": [
    "### <font color='blue'>Method 4: Filling Missing Values with Mean Value</font>"
   ]
  },
  {
   "cell_type": "code",
   "execution_count": 16,
   "id": "f0c5304b",
   "metadata": {},
   "outputs": [
    {
     "data": {
      "text/html": [
       "<div>\n",
       "<style scoped>\n",
       "    .dataframe tbody tr th:only-of-type {\n",
       "        vertical-align: middle;\n",
       "    }\n",
       "\n",
       "    .dataframe tbody tr th {\n",
       "        vertical-align: top;\n",
       "    }\n",
       "\n",
       "    .dataframe thead th {\n",
       "        text-align: right;\n",
       "    }\n",
       "</style>\n",
       "<table border=\"1\" class=\"dataframe\">\n",
       "  <thead>\n",
       "    <tr style=\"text-align: right;\">\n",
       "      <th></th>\n",
       "      <th>DC Input Current [A]</th>\n",
       "      <th>DC Input Voltage [V]</th>\n",
       "    </tr>\n",
       "  </thead>\n",
       "  <tbody>\n",
       "    <tr>\n",
       "      <th>count</th>\n",
       "      <td>8.000000</td>\n",
       "      <td>8.00000</td>\n",
       "    </tr>\n",
       "    <tr>\n",
       "      <th>mean</th>\n",
       "      <td>2.318750</td>\n",
       "      <td>759.10000</td>\n",
       "    </tr>\n",
       "    <tr>\n",
       "      <th>std</th>\n",
       "      <td>1.273291</td>\n",
       "      <td>25.72303</td>\n",
       "    </tr>\n",
       "    <tr>\n",
       "      <th>min</th>\n",
       "      <td>0.860000</td>\n",
       "      <td>722.30000</td>\n",
       "    </tr>\n",
       "    <tr>\n",
       "      <th>25%</th>\n",
       "      <td>1.292500</td>\n",
       "      <td>737.80000</td>\n",
       "    </tr>\n",
       "    <tr>\n",
       "      <th>50%</th>\n",
       "      <td>2.140000</td>\n",
       "      <td>768.05000</td>\n",
       "    </tr>\n",
       "    <tr>\n",
       "      <th>75%</th>\n",
       "      <td>3.092500</td>\n",
       "      <td>779.55000</td>\n",
       "    </tr>\n",
       "    <tr>\n",
       "      <th>max</th>\n",
       "      <td>4.330000</td>\n",
       "      <td>786.40000</td>\n",
       "    </tr>\n",
       "  </tbody>\n",
       "</table>\n",
       "</div>"
      ],
      "text/plain": [
       "       DC Input Current [A]  DC Input Voltage [V]\n",
       "count              8.000000               8.00000\n",
       "mean               2.318750             759.10000\n",
       "std                1.273291              25.72303\n",
       "min                0.860000             722.30000\n",
       "25%                1.292500             737.80000\n",
       "50%                2.140000             768.05000\n",
       "75%                3.092500             779.55000\n",
       "max                4.330000             786.40000"
      ]
     },
     "execution_count": 16,
     "metadata": {},
     "output_type": "execute_result"
    }
   ],
   "source": [
    "df.describe()"
   ]
  },
  {
   "cell_type": "code",
   "execution_count": 17,
   "id": "81aff71d",
   "metadata": {},
   "outputs": [],
   "source": [
    "df4 = df.copy()"
   ]
  },
  {
   "cell_type": "code",
   "execution_count": 18,
   "id": "abfa7dd7",
   "metadata": {},
   "outputs": [
    {
     "name": "stdout",
     "output_type": "stream",
     "text": [
      "   DC Input Current [A]  DC Input Voltage [V]\n",
      "0               0.86000                 722.3\n",
      "1               1.03000                 726.7\n",
      "2               1.38000                 741.5\n",
      "3               2.31875                   NaN\n",
      "4               2.01000                 759.5\n",
      "5               2.27000                 786.4\n",
      "6               2.85000                 779.2\n",
      "7               2.31875                 776.6\n",
      "8               3.82000                 780.6\n",
      "9               4.33000                   NaN\n"
     ]
    }
   ],
   "source": [
    "#Filling Missing Values in DC Input Current [A] Column\n",
    "mean_value1=df['DC Input Current [A]'].mean() #Finding the mean of the column having NaN\n",
    "df4['DC Input Current [A]'] = df['DC Input Current [A]'].fillna(value=mean_value1) #Replace NaNs with mean of values in the same column\n",
    "print(df4)"
   ]
  },
  {
   "cell_type": "code",
   "execution_count": 19,
   "id": "7e7d0939",
   "metadata": {},
   "outputs": [
    {
     "name": "stdout",
     "output_type": "stream",
     "text": [
      "   DC Input Current [A]  DC Input Voltage [V]\n",
      "0               0.86000                 722.3\n",
      "1               1.03000                 726.7\n",
      "2               1.38000                 741.5\n",
      "3               2.31875                 759.1\n",
      "4               2.01000                 759.5\n",
      "5               2.27000                 786.4\n",
      "6               2.85000                 779.2\n",
      "7               2.31875                 776.6\n",
      "8               3.82000                 780.6\n",
      "9               4.33000                 759.1\n"
     ]
    }
   ],
   "source": [
    "#Filling Missing Values in DC Input Voltage [V] Column\n",
    "mean_value2=df['DC Input Voltage [V]'].mean()\n",
    "df4['DC Input Voltage [V]'] = df['DC Input Voltage [V]'].fillna(value=mean_value2)\n",
    "print(df4)"
   ]
  },
  {
   "cell_type": "markdown",
   "id": "044a11a5",
   "metadata": {},
   "source": [
    "##### Here, filling missing values with \"Mean Value\" and \"Interpolation\" method can be the best method."
   ]
  },
  {
   "cell_type": "code",
   "execution_count": 20,
   "id": "bb5d85d5",
   "metadata": {},
   "outputs": [],
   "source": [
    "#df4.to_csv('IV_missing_value.csv')"
   ]
  }
 ],
 "metadata": {
  "kernelspec": {
   "display_name": "Python 3 (ipykernel)",
   "language": "python",
   "name": "python3"
  },
  "language_info": {
   "codemirror_mode": {
    "name": "ipython",
    "version": 3
   },
   "file_extension": ".py",
   "mimetype": "text/x-python",
   "name": "python",
   "nbconvert_exporter": "python",
   "pygments_lexer": "ipython3",
   "version": "3.8.8"
  }
 },
 "nbformat": 4,
 "nbformat_minor": 5
}
